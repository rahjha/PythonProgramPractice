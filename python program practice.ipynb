{
 "cells": [
  {
   "cell_type": "markdown",
   "metadata": {},
   "source": [
    "#Write a Python program to sum all the items in a list."
   ]
  },
  {
   "cell_type": "code",
   "execution_count": 2,
   "metadata": {},
   "outputs": [
    {
     "name": "stdout",
     "output_type": "stream",
     "text": [
      "-2\n"
     ]
    }
   ],
   "source": [
    "def sum(items):\n",
    "    sum=0;\n",
    "    for i in items:\n",
    "        sum+=i\n",
    "    print(sum)\n",
    "sum([1,5,-8])"
   ]
  },
  {
   "cell_type": "raw",
   "metadata": {},
   "source": [
    "# Write a Python program to count the number of strings where the string length is 2 or\n",
    "# more and the first and last character are same from a given list of strings."
   ]
  },
  {
   "cell_type": "code",
   "execution_count": 5,
   "metadata": {},
   "outputs": [
    {
     "name": "stdout",
     "output_type": "stream",
     "text": [
      "aba\n",
      "1221\n",
      "bhgsskknb\n",
      "aa\n"
     ]
    }
   ],
   "source": [
    "def count(items):\n",
    "    s=''\n",
    "    for i in items:\n",
    "        if len(i)>=2:\n",
    "            s=i\n",
    "            length = len(s)\n",
    "            if(s[0]==s[length-1]):\n",
    "                print(s)\n",
    "count(['abc', 'xyz', 'aba', '1221','bhgsskknb','aa'])"
   ]
  },
  {
   "cell_type": "markdown",
   "metadata": {},
   "source": [
    "#Write a Python program to remove duplicates from a list."
   ]
  },
  {
   "cell_type": "code",
   "execution_count": 7,
   "metadata": {},
   "outputs": [
    {
     "name": "stdout",
     "output_type": "stream",
     "text": [
      "[1, 3, 4, 5, 45, 67, 56]\n"
     ]
    }
   ],
   "source": [
    "l1=[]\n",
    "def removeDuplicateList(l):\n",
    "    for i in l:\n",
    "        if l1.count(i) == 0:\n",
    "            l1.append(i)\n",
    "    print(l1)\n",
    "\n",
    "removeDuplicateList([1,3,4,5,4,3,45,67,56,45,56,67])"
   ]
  },
  {
   "cell_type": "code",
   "execution_count": 9,
   "metadata": {},
   "outputs": [
    {
     "name": "stdout",
     "output_type": "stream",
     "text": [
      "{1, 3, 4, 5, 67, 45, 56}\n"
     ]
    }
   ],
   "source": [
    "def removeDuplicateList(l):\n",
    "    s = set(l)\n",
    "    print(s)\n",
    "removeDuplicateList([1,3,4,5,4,3,45,67,56,45,56,67])"
   ]
  },
  {
   "cell_type": "code",
   "execution_count": null,
   "metadata": {},
   "outputs": [],
   "source": []
  }
 ],
 "metadata": {
  "kernelspec": {
   "display_name": "Python 3",
   "language": "python",
   "name": "python3"
  },
  "language_info": {
   "codemirror_mode": {
    "name": "ipython",
    "version": 3
   },
   "file_extension": ".py",
   "mimetype": "text/x-python",
   "name": "python",
   "nbconvert_exporter": "python",
   "pygments_lexer": "ipython3",
   "version": "3.7.6"
  }
 },
 "nbformat": 4,
 "nbformat_minor": 4
}
